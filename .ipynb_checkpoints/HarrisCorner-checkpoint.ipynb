{
 "cells": [
  {
   "cell_type": "code",
   "execution_count": 1,
   "metadata": {
    "colab": {},
    "colab_type": "code",
    "id": "RXqKZ5ESZbGs"
   },
   "outputs": [],
   "source": [
    "#@title\n",
    "import numpy as np\n",
    "import cv2\n",
    "import scipy.io\n",
    "import os\n",
    "from numpy.linalg import norm\n",
    "from matplotlib import pyplot as plt\n",
    "from numpy.linalg import det\n",
    "from numpy.linalg import inv\n",
    "from scipy.linalg import rq\n",
    "from numpy.linalg import svd\n",
    "import matplotlib.pyplot as plt\n",
    "import numpy as np\n",
    "import math\n",
    "import random\n",
    "import sys\n",
    "from scipy import ndimage, spatial"
   ]
  },
  {
   "cell_type": "code",
   "execution_count": 6,
   "metadata": {
    "colab": {},
    "colab_type": "code",
    "id": "id5iMslKZmhn"
   },
   "outputs": [],
   "source": [
    "###############################################EXTRA CREDIT PART##############################################\n",
    "\n",
    "def harriscornerdetector(Image):\n",
    "    '''\n",
    "    Extra Credit Part\n",
    "    Goal:Compute Harris Features\n",
    "    Steps Followed\n",
    "    1.Apply two filters on the entire image to get the derivative image of x axis and y axis\n",
    "    2.Computed the harris matrix of each pixel in its neighborhood using a gaussian mask and the derivative images.\n",
    "    Sum over a 5X5 window. Apply 5X5 Guassian mask with .5 standard deviation \n",
    "    3.Then compute the harris score using the matrix\n",
    "    The response is given by the formula \n",
    "    R_score=det(M)-alpha*trace(M)^2 for each pixel window\n",
    "    4.Finally we take the eigenvector corresponding to the first eigenvalue as the orientation of the feature transformed to radian by atan() and atan()+pi  \n",
    "\n",
    "    '''\n",
    "\n",
    "\n",
    "    harris = np.zeros(Image.shape[:2])\n",
    "    orientations = np.zeros(Image.shape[:2])\n",
    "    #Step 1\n",
    "    i_x = ndimage.filters.sobel(Image, axis=-1)\n",
    "    i_y = ndimage.filters.sobel(Image, axis=0) \n",
    "    i_x_sqr = i_x**2\n",
    "    i_y_sqr = i_y**2\n",
    "    i_x_times_i_y = i_x*i_y\n",
    "    #Step 2\n",
    "    s = 0.9 #Sigma\n",
    "    G = 31  #Gauss Mask   \n",
    "    truncate_SD = G/(s*2)\n",
    "    sumix2 = ndimage.filters.gaussian_filter(i_x_sqr, s, truncate=truncate_SD)\n",
    "    sumiy2 = ndimage.filters.gaussian_filter(i_y_sqr, s, truncate=truncate_SD)\n",
    "    sumixiy2 = ndimage.filters.gaussian_filter(i_x_times_i_y, s, truncate=truncate_SD)\n",
    "    #Step 3\n",
    "    alpha = 0.01\n",
    "    det = sumix2*sumiy2 - sumixiy2 **2\n",
    "    trace = sumix2+sumiy2\n",
    "    harris = det- alpha*(trace**2)\n",
    "    orientations = np.degrees(np.arctan2(i_y.flatten(),i_x.flatten()).reshape(orientations.shape)) \n",
    "    return harris, orientations\n",
    "\n",
    "\n",
    "def LocalMaxima(Image):\n",
    "    '''\n",
    "    This function takes a numpy array containing the Harris score at\n",
    "    each pixel and returns an numpy array containing True/False at\n",
    "    each pixel, depending on whether the pixel is a local maxima \n",
    "    Steps adopted\n",
    "    1.Calculate the local maxima image\n",
    "    2.And find the maximum pixels in the 7X7 window\n",
    "    3.Then return true when pixel is the maximum, otherwise false\n",
    "    '''\n",
    "    destImage = np.zeros_like(Image, np.bool)\n",
    "    harrisImage_max = ndimage.filters.maximum_filter(Image, size=(81,81))\n",
    "    destImage = (Image == harrisImage_max)\n",
    "    return destImage\n",
    "\n",
    "\n",
    "def detectKeypoints(image):\n",
    "    '''\n",
    "    This function takes in the  image and returns detected keypoints\n",
    "    Steps:\n",
    "    1.Grayscale image used for Harris detection\n",
    "    2.Call harriscornerdetector() which gives the harris score at each pixel\n",
    "    position\n",
    "    3.Compute local maxima in the Harris image\n",
    "    4.Update the cv2.KeyPoint() class objects with the coordinate, size, angle and response\n",
    "    '''\n",
    "    image = image.astype(np.float32)\n",
    "    image /= 255.\n",
    "    h, w = image.shape[:2]\n",
    "    keypoints = []\n",
    "    grayImage = cv2.cvtColor(image, cv2.COLOR_BGR2GRAY)\n",
    "    harris, orientation = harriscornerdetector(grayImage)\n",
    "    maxi = LocalMaxima(harris)\n",
    "\n",
    "    for y in range(h):\n",
    "        for x in range(w):\n",
    "            if not maxi[y, x]:\n",
    "                continue\n",
    "\n",
    "            f = cv2.KeyPoint()\n",
    "            f.pt = x, y\n",
    "            f.size = 1\n",
    "            #f.angle = orientation[y, x]\n",
    "            #f.response = harris[y, x]\n",
    "            keypoints.append(f)\n",
    "\n",
    "    return keypoints"
   ]
  },
  {
   "cell_type": "code",
   "execution_count": 3,
   "metadata": {},
   "outputs": [],
   "source": [
    "image = cv2.imread('test_image.png',0)\n",
    "cv2.imshow('Image',image)\n",
    "k = cv2.waitKey(0)\n",
    "if k == 27:\n",
    "    cv2.destroyAllWindows()"
   ]
  },
  {
   "cell_type": "code",
   "execution_count": 4,
   "metadata": {},
   "outputs": [
    {
     "data": {
      "text/plain": [
       "-1"
      ]
     },
     "execution_count": 4,
     "metadata": {},
     "output_type": "execute_result"
    }
   ],
   "source": [
    "lane_image = np.copy(image)\n",
    "cv2.imshow('image', lane_image)\n",
    "cv2.waitKey(0)"
   ]
  },
  {
   "cell_type": "code",
   "execution_count": 9,
   "metadata": {},
   "outputs": [],
   "source": [
    "haris,orient = harriscornerdetector(lane_image)"
   ]
  },
  {
   "cell_type": "code",
   "execution_count": null,
   "metadata": {},
   "outputs": [],
   "source": [
    "cv2.imshow('Image',haris)\n",
    "k = cv2.waitKey(0)\n",
    "if k == 27:\n",
    "    cv2.destroyAllWindows()"
   ]
  },
  {
   "cell_type": "code",
   "execution_count": null,
   "metadata": {},
   "outputs": [],
   "source": [
    "cv2.imshow('Image',orient)\n",
    "k = cv2.waitKey(0)\n",
    "if k == 27:\n",
    "    cv2.destroyAllWindows()"
   ]
  }
 ],
 "metadata": {
  "colab": {
   "name": "HarrisCorner.ipynb",
   "provenance": [],
   "version": "0.3.2"
  },
  "kernelspec": {
   "display_name": "Python 3",
   "language": "python",
   "name": "python3"
  },
  "language_info": {
   "codemirror_mode": {
    "name": "ipython",
    "version": 3
   },
   "file_extension": ".py",
   "mimetype": "text/x-python",
   "name": "python",
   "nbconvert_exporter": "python",
   "pygments_lexer": "ipython3",
   "version": "3.8.3"
  }
 },
 "nbformat": 4,
 "nbformat_minor": 1
}
