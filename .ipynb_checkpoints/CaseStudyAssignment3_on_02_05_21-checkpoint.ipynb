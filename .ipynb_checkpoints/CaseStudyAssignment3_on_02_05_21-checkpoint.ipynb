{
 "cells": [
  {
   "cell_type": "markdown",
   "metadata": {},
   "source": [
    "- Course Name:    Computer Vision\n",
    "- Course Code:\t19AI621\n",
    "- Course Advisor: Dr. Senthilkumar T\n",
    "- Title:\tLane Detection for Autonomous Vehicles using Computer Vision Algorithm\n",
    "- Submitted By:\n",
    "    - Abhishek Gopinath [CB.EN.P2AID20002]\n",
    "    - Alan Henry [CB.EN.P2AID20010]\n",
    "    - Jiss Joseph Thomas [CB.EN.P2AID20024]\n"
   ]
  },
  {
   "cell_type": "markdown",
   "metadata": {},
   "source": [
    "## Spatial Domain Operations"
   ]
  },
  {
   "cell_type": "code",
   "execution_count": null,
   "metadata": {},
   "outputs": [],
   "source": [
    "from math import log10, sqrt \n",
    "import cv2 \n",
    "import numpy as np\n",
    "import os, sys, stat\n",
    "\n",
    "from numpy import *\n",
    "from numpy import random\n",
    "from scipy.ndimage import filters\n",
    "\n",
    "%pylab inline\n",
    "import matplotlib.pyplot as plt\n",
    "import matplotlib.image as mpimg"
   ]
  },
  {
   "cell_type": "markdown",
   "metadata": {},
   "source": [
    "## Spatial Domain Operations"
   ]
  },
  {
   "cell_type": "markdown",
   "metadata": {},
   "source": [
    "### Image Smoothing"
   ]
  },
  {
   "cell_type": "markdown",
   "metadata": {},
   "source": [
    "#### Average Filter"
   ]
  },
  {
   "cell_type": "code",
   "execution_count": null,
   "metadata": {},
   "outputs": [],
   "source": [
    "m, n = im.shape\n",
    "\n",
    "# Develop Averaging filter(3, 3) mask \n",
    "mask = np.ones([3, 3], dtype = np.float32) \n",
    "mask = mask / 9\n",
    "   \n",
    "# Convolve the 3x3 mask over the image  \n",
    "img_new = np.zeros([m, n]) \n",
    "  \n",
    "for i in range(1, m-1): \n",
    "    for j in range(1, n-1): \n",
    "        temp = im[i-1, j-1]*mask[0, 0]+im[i-1, j]*mask[0, 1]+im[i-1, j + 1]*mask[0, 2]+im[i, j-1]*mask[1, 0]+ im[i, j]*mask[1, 1]+im[i, j + 1]*mask[1, 2]+im[i + 1, j-1]*mask[2, 0]+im[i + 1, j]*mask[2, 1]+im[i + 1, j + 1]*mask[2, 2] \n",
    "         \n",
    "        img_new[i, j]= temp \n",
    "          \n",
    "img_new = img_new.astype(np.uint8) "
    "import cv2 as cv"
   ]
  }
 ],
 "metadata": {
  "kernelspec": {
   "display_name": "Python 3",
   "language": "python",
   "name": "python3"
  },
  "language_info": {
   "codemirror_mode": {
    "name": "ipython",
    "version": 3
   },
   "file_extension": ".py",
   "mimetype": "text/x-python",
   "name": "python",
   "nbconvert_exporter": "python",
   "pygments_lexer": "ipython3",
   "version": "3.8.3"
  }
 },
 "nbformat": 4,
 "nbformat_minor": 4
}
