{
  "nbformat": 4,
  "nbformat_minor": 0,
  "metadata": {
    "colab": {
      "name": "vgg16_ucf101.ipynb",
      "provenance": []
    },
    "language_info": {
      "name": "python"
    },
    "kernelspec": {
      "name": "python3",
      "display_name": "Python 3"
    },
    "accelerator": "GPU"
  },
  "cells": [
    {
      "cell_type": "code",
      "metadata": {
        "id": "tobGUP5lfRol"
      },
      "source": [
        "!pip3 install --upgrade onnxruntime"
      ],
      "execution_count": 1,
      "outputs": []
    },
    {
      "cell_type": "code",
      "metadata": {
        "id": "3wUGffv1f-tX"
      },
      "source": [
        "!pip install mxnet-cu110\n",
        "!pip install gluoncv"
      ],
      "execution_count": 2,
      "outputs": []
    },
    {
      "cell_type": "code",
      "metadata": {
        "id": "HX3TTgJ9fRom",
        "colab": {
          "base_uri": "https://localhost:8080/"
        },
        "outputId": "c8879c28-9c68-44a1-c34a-cf7bac2ae80f"
      },
      "source": [
        "\n",
        "import numpy as np\n",
        "import onnxruntime as rt\n",
        "import urllib.request\n",
        "import os.path\n",
        "from PIL import Image\n",
        "import matplotlib.pyplot as plt\n",
        "import numpy as np\n",
        "import mxnet as mx\n",
        "from mxnet import gluon, nd, image\n",
        "from mxnet.gluon.data.vision import transforms\n",
        "from gluoncv.data.transforms import video\n",
        "from gluoncv import utils\n",
        "from gluoncv.model_zoo import get_model\n",
        "    "
      ],
      "execution_count": 3,
      "outputs": [
        {
          "output_type": "stream",
          "text": [
            "/usr/local/lib/python3.7/dist-packages/gluoncv/__init__.py:40: UserWarning: Both `mxnet==1.8.0` and `torch==1.8.1+cu101` are installed. You might encounter increased GPU memory footprint if both framework are used at the same time.\n",
            "  warnings.warn(f'Both `mxnet=={mx.__version__}` and `torch=={torch.__version__}` are installed. '\n"
          ],
          "name": "stderr"
        }
      ]
    },
    {
      "cell_type": "code",
      "metadata": {
        "id": "_EhC_tfefRon"
      },
      "source": [
        "\n",
        "def fetch_model():\n",
        "    if not os.path.isfile(\"vgg16_ucf101.onnx\"):\n",
        "        urllib.request.urlretrieve(\"https://apache-mxnet.s3-us-west-2.amazonaws.com/onnx/models/gluoncv-vgg16_ucf101-b8e05551.onnx\", filename=\"vgg16_ucf101.onnx\")\n",
        "    return \"vgg16_ucf101.onnx\"\n",
        "    \n",
        "def prepare_img(img_path, input_shape):\n",
        "    # input_shape: BHWC\n",
        "    height, width = input_shape[1], input_shape[2]\n",
        "    img = Image.open(img_path).convert('RGB')\n",
        "    img = img.resize((width, height))\n",
        "    img = np.asarray(img)\n",
        "    img = np.expand_dims(img, axis=0).astype('float32')\n",
        "\n",
        "    return img\n",
        "    \n",
        "def prepare_label():\n",
        "    from gluoncv.data import UCF101Attr\n",
        "    return UCF101Attr().classes\n",
        "    "
      ],
      "execution_count": 4,
      "outputs": []
    },
    {
      "cell_type": "markdown",
      "metadata": {
        "id": "_bd4I8cKfRon"
      },
      "source": [
        "**Make sure to replace the image you want to use**"
      ]
    },
    {
      "cell_type": "code",
      "metadata": {
        "id": "RpBh2e-3fRon"
      },
      "source": [
        "\n",
        "model = fetch_model()\n",
        "url = 'https://github.com/bryanyzhu/tiny-ucf101/raw/master/ThrowDiscus.png'\n",
        "im_fname = utils.download(url)\n"
      ],
      "execution_count": 5,
      "outputs": []
    },
    {
      "cell_type": "code",
      "metadata": {
        "id": "7R-9wPF-f4D0"
      },
      "source": [
        "\n",
        "img = image.imread(im_fname)\n",
        "img_path = \"/content/ThrowDiscus.png\"\n",
        "img = prepare_img(img_path, (1, 224, 224, 3))\n",
        "label = prepare_label()\n",
        "    "
      ],
      "execution_count": 6,
      "outputs": []
    },
    {
      "cell_type": "code",
      "metadata": {
        "id": "2J-L88FtfRoo"
      },
      "source": [
        "\n",
        "# Create a onnx inference session and get the input name\n",
        "onnx_session = rt.InferenceSession(model, None)\n",
        "input_name = onnx_session.get_inputs()[0].name    \n",
        "    "
      ],
      "execution_count": 7,
      "outputs": []
    },
    {
      "cell_type": "code",
      "metadata": {
        "id": "pAacIcKdfRoo"
      },
      "source": [
        "\n",
        "pred = onnx_session.run([], {input_name: img})[0]\n",
        "    "
      ],
      "execution_count": 8,
      "outputs": []
    },
    {
      "cell_type": "markdown",
      "metadata": {
        "id": "Y_poNYS6fRop"
      },
      "source": [
        "\n",
        "(Optional) We use mxnet to process the result.\n",
        "\n",
        "Feel free to process the result your own way\n"
      ]
    },
    {
      "cell_type": "code",
      "metadata": {
        "id": "Re62P9URfRop",
        "colab": {
          "base_uri": "https://localhost:8080/"
        },
        "outputId": "897eca14-abd9-4578-8ff0-5a22d0cda043"
      },
      "source": [
        "\n",
        "import mxnet as mx\n",
        "\n",
        "pred = mx.nd.array(pred)\n",
        "topK = 5\n",
        "ind = mx.nd.topk(pred, k=topK)[0].astype('int')\n",
        "print('The input is classified to be')\n",
        "for i in range(topK):\n",
        "    print('\t[%s], with probability %.3f.'%\n",
        "          (label[ind[i].asscalar()], mx.nd.softmax(pred)[0][ind[i]].asscalar()))\n",
        "    "
      ],
      "execution_count": 9,
      "outputs": [
        {
          "output_type": "stream",
          "text": [
            "The input is classified to be\n",
            "\t[ThrowDiscus], with probability 0.999.\n",
            "\t[Hammering], with probability 0.001.\n",
            "\t[TennisSwing], with probability 0.000.\n",
            "\t[VolleyballSpiking], with probability 0.000.\n",
            "\t[Basketball], with probability 0.000.\n"
          ],
          "name": "stdout"
        }
      ]
    },
    {
      "cell_type": "code",
      "metadata": {
        "id": "DGRRAp45fcg8",
        "colab": {
          "base_uri": "https://localhost:8080/"
        },
        "outputId": "02737fbd-6408-4b08-ad60-d72952286619"
      },
      "source": [
        "pip install decord"
      ],
      "execution_count": 10,
      "outputs": [
        {
          "output_type": "stream",
          "text": [
            "Requirement already satisfied: decord in /usr/local/lib/python3.7/dist-packages (0.5.2)\n",
            "Requirement already satisfied: numpy>=1.14.0 in /usr/local/lib/python3.7/dist-packages (from decord) (1.19.5)\n"
          ],
          "name": "stdout"
        }
      ]
    },
    {
      "cell_type": "code",
      "metadata": {
        "id": "MkCNZzDbgjyO"
      },
      "source": [
        "from gluoncv import utils\n",
        "url = 'https://raw.githubusercontent.com/overtunned/lane_detection/main/Dataset/Produce.mp4'\n",
        "video_fname = utils.download(url)\n",
        "\n",
        "from decord import VideoReader\n",
        "vr = VideoReader(video_fname)"
      ],
      "execution_count": 11,
      "outputs": []
    },
    {
      "cell_type": "code",
      "metadata": {
        "id": "MpRDD5t-sjb6"
      },
      "source": [
        "import matplotlib.pyplot as plt\n",
        "import numpy as np\n",
        "import mxnet as mx\n",
        "from mxnet import gluon, nd, image\n",
        "from mxnet.gluon.data.vision import transforms\n",
        "from gluoncv.data.transforms import video\n",
        "from gluoncv import utils\n",
        "from gluoncv.model_zoo import get_model"
      ],
      "execution_count": 12,
      "outputs": []
    },
    {
      "cell_type": "code",
      "metadata": {
        "id": "t3NqMc2SsqTL"
      },
      "source": [
        "from gluoncv.utils.filesystem import try_import_decord\n",
        "decord = try_import_decord()\n",
        "\n",
        "url = 'https://github.com/bryanyzhu/tiny-ucf101/raw/master/abseiling_k400.mp4'\n",
        "video_fname = utils.download(url)\n",
        "vr = decord.VideoReader(video_fname)\n",
        "fast_frame_id_list = range(0, 64, 2)\n",
        "slow_frame_id_list = range(0, 64, 16)\n",
        "frame_id_list = list(fast_frame_id_list) + list(slow_frame_id_list)\n",
        "video_data = vr.get_batch(frame_id_list).asnumpy()\n",
        "clip_input = [video_data[vid, :, :, :] for vid, _ in enumerate(frame_id_list)]"
      ],
      "execution_count": 13,
      "outputs": []
    },
    {
      "cell_type": "code",
      "metadata": {
        "id": "XnK3ag76ssbp",
        "colab": {
          "base_uri": "https://localhost:8080/"
        },
        "outputId": "ab76503b-fd75-4030-8020-eb67b8f9ad84"
      },
      "source": [
        "transform_fn = video.VideoGroupValTransform(size=224, mean=[0.485, 0.456, 0.406], std=[0.229, 0.224, 0.225])\n",
        "clip_input = transform_fn(clip_input)\n",
        "clip_input = np.stack(clip_input, axis=0)\n",
        "clip_input = clip_input.reshape((-1,) + (36, 3, 224, 224))\n",
        "clip_input = np.transpose(clip_input, (0, 2, 1, 3, 4))\n",
        "print('Video data is downloaded and preprocessed.')"
      ],
      "execution_count": 14,
      "outputs": [
        {
          "output_type": "stream",
          "text": [
            "Video data is downloaded and preprocessed.\n"
          ],
          "name": "stdout"
        }
      ]
    },
    {
      "cell_type": "code",
      "metadata": {
        "id": "Or2nd3cLsxMN",
        "colab": {
          "base_uri": "https://localhost:8080/"
        },
        "outputId": "f278c706-f99a-4b44-d35e-3b218452f3af"
      },
      "source": [
        "model_name = 'slowfast_4x16_resnet50_kinetics400'\n",
        "net = get_model(model_name, nclass=400, pretrained=True)\n",
        "print('%s model is successfully loaded.' % model_name)"
      ],
      "execution_count": 15,
      "outputs": [
        {
          "output_type": "stream",
          "text": [
            "slowfast_4x16_resnet50_kinetics400 model is successfully loaded.\n"
          ],
          "name": "stdout"
        }
      ]
    },
    {
      "cell_type": "code",
      "metadata": {
        "id": "8v7_X3RAtCI1",
        "colab": {
          "base_uri": "https://localhost:8080/"
        },
        "outputId": "011ec3c1-6417-4589-d446-1424aa9ede7f"
      },
      "source": [
        "pred = net(nd.array(clip_input))\n",
        "\n",
        "classes = net.classes\n",
        "topK = 5\n",
        "ind = nd.topk(pred, k=topK)[0].astype('int')\n",
        "print('The input video clip is classified to be')\n",
        "for i in range(topK):\n",
        "    print('\\t[%s], with probability %.3f.'%\n",
        "          (classes[ind[i].asscalar()], nd.softmax(pred)[0][ind[i]].asscalar()))"
      ],
      "execution_count": 16,
      "outputs": [
        {
          "output_type": "stream",
          "text": [
            "The input video clip is classified to be\n",
            "\t[abseiling], with probability 0.996.\n",
            "\t[rock_climbing], with probability 0.004.\n",
            "\t[ice_climbing], with probability 0.000.\n",
            "\t[paragliding], with probability 0.000.\n",
            "\t[climbing_a_rope], with probability 0.000.\n"
          ],
          "name": "stdout"
        }
      ]
    }
  ]
}