{
 "cells": [
  {
   "cell_type": "markdown",
   "metadata": {},
   "source": [
    "- Course Name:    Computer Vision\n",
    "- Course Code:\t19AI621\n",
    "- Course Advisor: Dr. Senthilkumar T\n",
    "- Title:\tLane Detection for Autonomous Vehicles using Computer Vision Algorithm\n",
    "- Submitted By:\n",
    "- Abhishek Gopinath [CB.EN.P2AID20002]\n",
    "- Alan Henry [CB.EN.P2AID20010]\n",
    "- Jiss Joseph Thomas [CB.EN.P2AID20024]\n"
   ]
  },
  {
   "cell_type": "code",
   "execution_count": null,
   "metadata": {},
   "outputs": [],
   "source": []
  }
 ],
 "metadata": {
  "kernelspec": {
   "display_name": "Python 3",
   "language": "python",
   "name": "python3"
  },
  "language_info": {
   "codemirror_mode": {
    "name": "ipython",
    "version": 3
   },
   "file_extension": ".py",
   "mimetype": "text/x-python",
   "name": "python",
   "nbconvert_exporter": "python",
   "pygments_lexer": "ipython3",
   "version": "3.8.3"
  }
 },
 "nbformat": 4,
 "nbformat_minor": 4
}
