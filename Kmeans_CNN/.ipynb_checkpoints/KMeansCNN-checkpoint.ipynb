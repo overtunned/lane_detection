{
 "cells": [
  {
   "cell_type": "code",
   "execution_count": 1,
   "id": "cdebd9b9",
   "metadata": {},
   "outputs": [],
   "source": [
    "# !pip install scikit-plot"
   ]
  },
  {
   "cell_type": "code",
   "execution_count": 2,
   "id": "7461e591",
   "metadata": {},
   "outputs": [
    {
     "name": "stdout",
     "output_type": "stream",
     "text": [
      "Packages imported\n"
     ]
    }
   ],
   "source": [
    "# import \n",
    "import numpy as np\n",
    "import pandas as pd\n",
    "import matplotlib as mpl\n",
    "import matplotlib.pyplot as plt\n",
    "import scikitplot as skplt\n",
    "import keras\n",
    "\n",
    "import csv\n",
    "from sklearn import preprocessing\n",
    "from sklearn.cluster import KMeans\n",
    "from sklearn.model_selection import train_test_split\n",
    "from itertools import cycle\n",
    "from keras.models import Sequential\n",
    "from keras.layers import Dense, Activation, Flatten,Dropout\n",
    "from keras.layers.convolutional import Convolution2D\n",
    "from keras.layers.convolutional import MaxPooling2D\n",
    "from keras.optimizers import SGD\n",
    "from keras.utils import np_utils\n",
    "from sklearn.utils import shuffle\n",
    "from sklearn.preprocessing import StandardScaler\n",
    "from sklearn.metrics import roc_curve, auc\n",
    "\n",
    "from keras import backend\n",
    "from numpy import array\n",
    "\n",
    "from keras import backend as K\n",
    "print(\"Packages imported\")"
   ]
  },
  {
   "cell_type": "code",
   "execution_count": 6,
   "id": "fb92db73",
   "metadata": {},
   "outputs": [
    {
     "data": {
      "text/plain": [
       "'\\nsam = pd.read_csv(\\'Analysis.csv\\')\\n\\nmytrain=open(\\'cnntrainlabel.csv\\',\\'a\\')\\nwr=csv.writer(mytrain,quoting=csv.QUOTE_ALL)\\n\\nmytest=open(\\'cnntestlabel.csv\\',\\'a\\')\\nwrt=csv.writer(mytest,quoting=csv.QUOTE_ALL)\\n\\n\\nle = preprocessing.LabelEncoder()\\n\\nfor col in sam.columns.values:\\n\\tif sam[col].dtypes==\\'object\\':\\n\\t\\tle.fit(sam[col])\\n\\t\\tsam[col]=le.transform(sam[col])\\n\\n\\n\\n#data = [sam1,sam2,sam3,sam4]\\n#data = pd.concat(sam)\\npre_data = sam\\n#print(data)\\nkmeans = KMeans(n_clusters=3, random_state=0).fit(pre_data)\\nclass_labels = kmeans.labels_\\n\\npre_data = pre_data.values.tolist()\\n#class_labels = class_labels.values.tolist()\\n\\t \\nprint(\"data\", len(pre_data))\\nprint(\"labels\",len(class_labels))\\nfg = 0\\nthres = int(len(pre_data)*0.7)\\n\\nfor i in range(0,len(pre_data)):\\n    pre_data[i].append(0)\\n    pre_data[i].append(0)\\n    pre_data[i].append(0)\\n    pre_data[i].append(0)\\n    pre_data[i].append(0)\\n    pre_data[i].append(class_labels[i])\\n    if fg < thres:\\n        wr.writerow(pre_data[i])\\n        fg = fg + 1\\n    else:\\n        wrt.writerow(pre_data[i])\\n        fg = fg + 1\\n'"
      ]
     },
     "execution_count": 6,
     "metadata": {},
     "output_type": "execute_result"
    }
   ],
   "source": [
    "'''\n",
    "sam = pd.read_csv('Analysis.csv')\n",
    "\n",
    "mytrain=open('cnntrainlabel.csv','a')\n",
    "wr=csv.writer(mytrain,quoting=csv.QUOTE_ALL)\n",
    "\n",
    "mytest=open('cnntestlabel.csv','a')\n",
    "wrt=csv.writer(mytest,quoting=csv.QUOTE_ALL)\n",
    "\n",
    "\n",
    "le = preprocessing.LabelEncoder()\n",
    "\n",
    "for col in sam.columns.values:\n",
    "\tif sam[col].dtypes=='object':\n",
    "\t\tle.fit(sam[col])\n",
    "\t\tsam[col]=le.transform(sam[col])\n",
    "\n",
    "\n",
    "\n",
    "#data = [sam1,sam2,sam3,sam4]\n",
    "#data = pd.concat(sam)\n",
    "pre_data = sam\n",
    "#print(data)\n",
    "kmeans = KMeans(n_clusters=3, random_state=0).fit(pre_data)\n",
    "class_labels = kmeans.labels_\n",
    "\n",
    "pre_data = pre_data.values.tolist()\n",
    "#class_labels = class_labels.values.tolist()\n",
    "\t \n",
    "print(\"data\", len(pre_data))\n",
    "print(\"labels\",len(class_labels))\n",
    "fg = 0\n",
    "thres = int(len(pre_data)*0.7)\n",
    "\n",
    "for i in range(0,len(pre_data)):\n",
    "    pre_data[i].append(0)\n",
    "    pre_data[i].append(0)\n",
    "    pre_data[i].append(0)\n",
    "    pre_data[i].append(0)\n",
    "    pre_data[i].append(0)\n",
    "    pre_data[i].append(class_labels[i])\n",
    "    if fg < thres:\n",
    "        wr.writerow(pre_data[i])\n",
    "        fg = fg + 1\n",
    "    else:\n",
    "        wrt.writerow(pre_data[i])\n",
    "        fg = fg + 1\n",
    "'''\n"
   ]
  },
  {
   "cell_type": "code",
   "execution_count": 7,
   "id": "a7e66ba0",
   "metadata": {},
   "outputs": [
    {
     "data": {
      "text/html": [
       "<div>\n",
       "<style scoped>\n",
       "    .dataframe tbody tr th:only-of-type {\n",
       "        vertical-align: middle;\n",
       "    }\n",
       "\n",
       "    .dataframe tbody tr th {\n",
       "        vertical-align: top;\n",
       "    }\n",
       "\n",
       "    .dataframe thead th {\n",
       "        text-align: right;\n",
       "    }\n",
       "</style>\n",
       "<table border=\"1\" class=\"dataframe\">\n",
       "  <thead>\n",
       "    <tr style=\"text-align: right;\">\n",
       "      <th></th>\n",
       "      <th>0</th>\n",
       "      <th>1</th>\n",
       "      <th>2</th>\n",
       "      <th>3</th>\n",
       "      <th>4</th>\n",
       "      <th>5</th>\n",
       "      <th>6</th>\n",
       "      <th>7</th>\n",
       "      <th>8</th>\n",
       "      <th>9</th>\n",
       "      <th>10</th>\n",
       "      <th>11</th>\n",
       "      <th>12</th>\n",
       "      <th>13</th>\n",
       "      <th>14</th>\n",
       "      <th>15</th>\n",
       "      <th>16</th>\n",
       "    </tr>\n",
       "  </thead>\n",
       "  <tbody>\n",
       "    <tr>\n",
       "      <th>0</th>\n",
       "      <td>1</td>\n",
       "      <td>0</td>\n",
       "      <td>1</td>\n",
       "      <td>0.9471</td>\n",
       "      <td>0</td>\n",
       "      <td>0</td>\n",
       "      <td>0</td>\n",
       "      <td>0.8561</td>\n",
       "      <td>0.002</td>\n",
       "      <td>0.004</td>\n",
       "      <td>1.8091</td>\n",
       "      <td>0</td>\n",
       "      <td>0</td>\n",
       "      <td>0</td>\n",
       "      <td>0</td>\n",
       "      <td>0</td>\n",
       "      <td>2</td>\n",
       "    </tr>\n",
       "    <tr>\n",
       "      <th>1</th>\n",
       "      <td>1</td>\n",
       "      <td>0</td>\n",
       "      <td>1</td>\n",
       "      <td>0.9920</td>\n",
       "      <td>0</td>\n",
       "      <td>0</td>\n",
       "      <td>0</td>\n",
       "      <td>0.8648</td>\n",
       "      <td>0.002</td>\n",
       "      <td>0.003</td>\n",
       "      <td>1.8610</td>\n",
       "      <td>0</td>\n",
       "      <td>0</td>\n",
       "      <td>0</td>\n",
       "      <td>0</td>\n",
       "      <td>0</td>\n",
       "      <td>2</td>\n",
       "    </tr>\n",
       "    <tr>\n",
       "      <th>2</th>\n",
       "      <td>1</td>\n",
       "      <td>0</td>\n",
       "      <td>1</td>\n",
       "      <td>1.0722</td>\n",
       "      <td>0</td>\n",
       "      <td>0</td>\n",
       "      <td>0</td>\n",
       "      <td>2.0090</td>\n",
       "      <td>0.002</td>\n",
       "      <td>0.003</td>\n",
       "      <td>3.0876</td>\n",
       "      <td>0</td>\n",
       "      <td>0</td>\n",
       "      <td>0</td>\n",
       "      <td>0</td>\n",
       "      <td>0</td>\n",
       "      <td>2</td>\n",
       "    </tr>\n",
       "  </tbody>\n",
       "</table>\n",
       "</div>"
      ],
      "text/plain": [
       "   0   1   2       3   4   5   6       7      8      9       10  11  12  13  \\\n",
       "0   1   0   1  0.9471   0   0   0  0.8561  0.002  0.004  1.8091   0   0   0   \n",
       "1   1   0   1  0.9920   0   0   0  0.8648  0.002  0.003  1.8610   0   0   0   \n",
       "2   1   0   1  1.0722   0   0   0  2.0090  0.002  0.003  3.0876   0   0   0   \n",
       "\n",
       "   14  15  16  \n",
       "0   0   0   2  \n",
       "1   0   0   2  \n",
       "2   0   0   2  "
      ]
     },
     "execution_count": 7,
     "metadata": {},
     "output_type": "execute_result"
    }
   ],
   "source": [
    "train = pd.read_csv('cnntrainlabel.csv',header=None)\n",
    "train"
   ]
  },
  {
   "cell_type": "code",
   "execution_count": 8,
   "id": "6d222f8c",
   "metadata": {},
   "outputs": [
    {
     "data": {
      "text/plain": [
       "(3, 17)"
      ]
     },
     "execution_count": 8,
     "metadata": {},
     "output_type": "execute_result"
    }
   ],
   "source": [
    "train.shape"
   ]
  },
  {
   "cell_type": "code",
   "execution_count": 9,
   "id": "bcb7e0b1",
   "metadata": {},
   "outputs": [
    {
     "data": {
      "text/html": [
       "<div>\n",
       "<style scoped>\n",
       "    .dataframe tbody tr th:only-of-type {\n",
       "        vertical-align: middle;\n",
       "    }\n",
       "\n",
       "    .dataframe tbody tr th {\n",
       "        vertical-align: top;\n",
       "    }\n",
       "\n",
       "    .dataframe thead th {\n",
       "        text-align: right;\n",
       "    }\n",
       "</style>\n",
       "<table border=\"1\" class=\"dataframe\">\n",
       "  <thead>\n",
       "    <tr style=\"text-align: right;\">\n",
       "      <th></th>\n",
       "      <th>0</th>\n",
       "      <th>1</th>\n",
       "      <th>2</th>\n",
       "      <th>3</th>\n",
       "      <th>4</th>\n",
       "      <th>5</th>\n",
       "      <th>6</th>\n",
       "      <th>7</th>\n",
       "      <th>8</th>\n",
       "      <th>9</th>\n",
       "      <th>10</th>\n",
       "      <th>11</th>\n",
       "      <th>12</th>\n",
       "      <th>13</th>\n",
       "      <th>14</th>\n",
       "      <th>15</th>\n",
       "      <th>16</th>\n",
       "    </tr>\n",
       "  </thead>\n",
       "  <tbody>\n",
       "    <tr>\n",
       "      <th>0</th>\n",
       "      <td>3</td>\n",
       "      <td>0</td>\n",
       "      <td>1</td>\n",
       "      <td>1.0089</td>\n",
       "      <td>0</td>\n",
       "      <td>0</td>\n",
       "      <td>0</td>\n",
       "      <td>0.9696</td>\n",
       "      <td>0.0015</td>\n",
       "      <td>0.0025</td>\n",
       "      <td>1.9825</td>\n",
       "      <td>0</td>\n",
       "      <td>0</td>\n",
       "      <td>0</td>\n",
       "      <td>0</td>\n",
       "      <td>0</td>\n",
       "      <td>0</td>\n",
       "    </tr>\n",
       "  </tbody>\n",
       "</table>\n",
       "</div>"
      ],
      "text/plain": [
       "   0   1   2       3   4   5   6       7       8       9       10  11  12  13  \\\n",
       "0   3   0   1  1.0089   0   0   0  0.9696  0.0015  0.0025  1.9825   0   0   0   \n",
       "\n",
       "   14  15  16  \n",
       "0   0   0   0  "
      ]
     },
     "execution_count": 9,
     "metadata": {},
     "output_type": "execute_result"
    }
   ],
   "source": [
    "test  = pd.read_csv('cnntestlabel.csv', header=None)\n",
    "test"
   ]
  },
  {
   "cell_type": "code",
   "execution_count": 10,
   "id": "7c9e7ff5",
   "metadata": {},
   "outputs": [
    {
     "data": {
      "text/plain": [
       "(1, 17)"
      ]
     },
     "execution_count": 10,
     "metadata": {},
     "output_type": "execute_result"
    }
   ],
   "source": [
    "test.shape"
   ]
  },
  {
   "cell_type": "code",
   "execution_count": 11,
   "id": "ed333de5",
   "metadata": {},
   "outputs": [],
   "source": [
    "seed = 9\n",
    "np.random.seed(seed)"
   ]
  },
  {
   "cell_type": "code",
   "execution_count": 12,
   "id": "22aa74a5",
   "metadata": {},
   "outputs": [],
   "source": [
    "images = train.iloc[:,:16].values\n",
    "scaler = StandardScaler().fit(images) \n",
    "rescaledtrain = scaler.transform(images) \n",
    "\n",
    "labels = train.iloc[:,16].values\n",
    "\n",
    "test_images = test.iloc[:,:16].values\n",
    "scalr = StandardScaler().fit(test_images) \n",
    "rescaledtest = scalr.transform(test_images) \n",
    "\n",
    "imags = pd.DataFrame(data = rescaledtrain)\n",
    "test_imags = pd.DataFrame(data = rescaledtest)\n",
    "\n",
    "img_rows,img_cols=4,4\n",
    "x_train=imags.to_numpy()\n",
    "x_test=test_imags.to_numpy()"
   ]
  },
  {
   "cell_type": "code",
   "execution_count": 13,
   "id": "6ee2ea50",
   "metadata": {},
   "outputs": [],
   "source": [
    "if K.image_data_format() == 'channels_first': \n",
    "    x_train=x_train.reshape(x_train.shape[0],1,img_rows,img_cols)\n",
    "    x_test=x_test.reshape(x_test.shape[0],1,img_rows,img_cols)\n",
    "    input_shape=(1,4,4)    \n",
    "else:\n",
    "    x_train=x_train.reshape(x_train.shape[0],img_rows,img_cols,1)\n",
    "    x_test=x_test.reshape(x_test.shape[0],img_rows,img_cols,1)\n",
    "    input_shape=(4,4,1) "
   ]
  },
  {
   "cell_type": "code",
   "execution_count": 14,
   "id": "ecf8ed46",
   "metadata": {},
   "outputs": [],
   "source": [
    "x_train=x_train.astype('float32')\n",
    "x_test=x_test.astype('float32')\n",
    "\n",
    "# encode the training labels as integers\n",
    "encoded_labels = np_utils.to_categorical(labels)\n",
    "num_classes = encoded_labels.shape[1]\n",
    "y_train=labels\n",
    "\n",
    "y_test=test.iloc[:,16].values\n",
    "ye_test = y_test\n",
    "\n",
    "num_pixels=4\n",
    "num_classes=3\n",
    "\n",
    "y_train = np_utils.to_categorical(y_train, num_classes)\n",
    "y_test = np_utils.to_categorical(y_test, num_classes)"
   ]
  },
  {
   "cell_type": "code",
   "execution_count": 17,
   "id": "7d4a0c57",
   "metadata": {},
   "outputs": [],
   "source": [
    "def create_model():\n",
    "    # create model\n",
    "    model = Sequential()\n",
    "    model.add(Convolution2D(num_pixels, 3, 3, input_shape=input_shape, activation= \"relu\"))\n",
    "       \n",
    "    model.add(MaxPooling2D(pool_size=(2, 2), padding='same'))\n",
    "    model.add(Flatten())\n",
    "    model.add(Dense(100, activation= \"relu\"))\n",
    "    model.add(Dense(num_classes, activation= \"softmax\"))\n",
    "    # compile modelr=0.01,momentum=0.9\n",
    "    #model.compile(loss='categorical_crossentropy', optimizer='adam', metrics=['accuracy'])\n",
    "    sgd = SGD(lr=0.001, decay=1e-6, momentum=0.9, nesterov=True)\n",
    "    model.compile(loss='categorical_crossentropy', optimizer=sgd,metrics=['accuracy',rmse,top5acc])\n",
    "    return model\n",
    "\n"
   ]
  },
  {
   "cell_type": "code",
   "execution_count": 18,
   "id": "c243a7b0",
   "metadata": {
    "scrolled": false
   },
   "outputs": [],
   "source": [
    "model = create_model()\n"
   ]
  },
  {
   "cell_type": "code",
   "execution_count": 19,
   "id": "c51e960f",
   "metadata": {
    "scrolled": false
   },
   "outputs": [
    {
     "name": "stdout",
     "output_type": "stream",
     "text": [
      "Epoch 1/100\n",
      "1/1 - 20s - loss: 1.0959 - accuracy: 0.0000e+00 - rmse: 0.4709 - top5acc: 1.0000 - val_loss: 1.1017 - val_accuracy: 0.0000e+00 - val_rmse: 0.4721 - val_top5acc: 1.0000\n",
      "Epoch 2/100\n",
      "1/1 - 0s - loss: 1.0933 - accuracy: 0.0000e+00 - rmse: 0.4703 - top5acc: 1.0000 - val_loss: 1.0988 - val_accuracy: 0.0000e+00 - val_rmse: 0.4715 - val_top5acc: 1.0000\n",
      "Epoch 3/100\n",
      "1/1 - 0s - loss: 1.0896 - accuracy: 0.0000e+00 - rmse: 0.4694 - top5acc: 1.0000 - val_loss: 1.0951 - val_accuracy: 0.0000e+00 - val_rmse: 0.4706 - val_top5acc: 1.0000\n",
      "Epoch 4/100\n",
      "1/1 - 0s - loss: 1.0850 - accuracy: 0.5000 - rmse: 0.4683 - top5acc: 1.0000 - val_loss: 1.0907 - val_accuracy: 1.0000 - val_rmse: 0.4695 - val_top5acc: 1.0000\n",
      "Epoch 5/100\n",
      "1/1 - 0s - loss: 1.0794 - accuracy: 0.5000 - rmse: 0.4670 - top5acc: 1.0000 - val_loss: 1.0857 - val_accuracy: 1.0000 - val_rmse: 0.4683 - val_top5acc: 1.0000\n",
      "Epoch 6/100\n",
      "1/1 - 0s - loss: 1.0730 - accuracy: 0.5000 - rmse: 0.4654 - top5acc: 1.0000 - val_loss: 1.0800 - val_accuracy: 1.0000 - val_rmse: 0.4670 - val_top5acc: 1.0000\n",
      "Epoch 7/100\n",
      "1/1 - 0s - loss: 1.0658 - accuracy: 0.5000 - rmse: 0.4637 - top5acc: 1.0000 - val_loss: 1.0738 - val_accuracy: 1.0000 - val_rmse: 0.4655 - val_top5acc: 1.0000\n",
      "Epoch 8/100\n",
      "1/1 - 0s - loss: 1.0581 - accuracy: 0.5000 - rmse: 0.4618 - top5acc: 1.0000 - val_loss: 1.0672 - val_accuracy: 1.0000 - val_rmse: 0.4639 - val_top5acc: 1.0000\n",
      "Epoch 9/100\n",
      "1/1 - 0s - loss: 1.0497 - accuracy: 0.5000 - rmse: 0.4597 - top5acc: 1.0000 - val_loss: 1.0602 - val_accuracy: 1.0000 - val_rmse: 0.4622 - val_top5acc: 1.0000\n",
      "Epoch 10/100\n",
      "1/1 - 0s - loss: 1.0409 - accuracy: 0.5000 - rmse: 0.4575 - top5acc: 1.0000 - val_loss: 1.0529 - val_accuracy: 1.0000 - val_rmse: 0.4604 - val_top5acc: 1.0000\n",
      "Epoch 11/100\n",
      "1/1 - 0s - loss: 1.0317 - accuracy: 1.0000 - rmse: 0.4552 - top5acc: 1.0000 - val_loss: 1.0453 - val_accuracy: 1.0000 - val_rmse: 0.4585 - val_top5acc: 1.0000\n",
      "Epoch 12/100\n",
      "1/1 - 0s - loss: 1.0221 - accuracy: 1.0000 - rmse: 0.4528 - top5acc: 1.0000 - val_loss: 1.0378 - val_accuracy: 1.0000 - val_rmse: 0.4566 - val_top5acc: 1.0000\n",
      "Epoch 13/100\n",
      "1/1 - 0s - loss: 1.0123 - accuracy: 1.0000 - rmse: 0.4503 - top5acc: 1.0000 - val_loss: 1.0302 - val_accuracy: 1.0000 - val_rmse: 0.4547 - val_top5acc: 1.0000\n",
      "Epoch 14/100\n",
      "1/1 - 0s - loss: 1.0023 - accuracy: 1.0000 - rmse: 0.4477 - top5acc: 1.0000 - val_loss: 1.0224 - val_accuracy: 1.0000 - val_rmse: 0.4527 - val_top5acc: 1.0000\n",
      "Epoch 15/100\n",
      "1/1 - 0s - loss: 0.9921 - accuracy: 1.0000 - rmse: 0.4450 - top5acc: 1.0000 - val_loss: 1.0146 - val_accuracy: 1.0000 - val_rmse: 0.4507 - val_top5acc: 1.0000\n",
      "Epoch 16/100\n",
      "1/1 - 0s - loss: 0.9819 - accuracy: 1.0000 - rmse: 0.4423 - top5acc: 1.0000 - val_loss: 1.0066 - val_accuracy: 1.0000 - val_rmse: 0.4487 - val_top5acc: 1.0000\n",
      "Epoch 17/100\n",
      "1/1 - 0s - loss: 0.9715 - accuracy: 1.0000 - rmse: 0.4396 - top5acc: 1.0000 - val_loss: 0.9985 - val_accuracy: 1.0000 - val_rmse: 0.4466 - val_top5acc: 1.0000\n",
      "Epoch 18/100\n",
      "1/1 - 0s - loss: 0.9608 - accuracy: 1.0000 - rmse: 0.4367 - top5acc: 1.0000 - val_loss: 0.9904 - val_accuracy: 1.0000 - val_rmse: 0.4445 - val_top5acc: 1.0000\n",
      "Epoch 19/100\n",
      "1/1 - 0s - loss: 0.9500 - accuracy: 1.0000 - rmse: 0.4337 - top5acc: 1.0000 - val_loss: 0.9823 - val_accuracy: 1.0000 - val_rmse: 0.4423 - val_top5acc: 1.0000\n",
      "Epoch 20/100\n",
      "1/1 - 0s - loss: 0.9391 - accuracy: 1.0000 - rmse: 0.4307 - top5acc: 1.0000 - val_loss: 0.9738 - val_accuracy: 1.0000 - val_rmse: 0.4401 - val_top5acc: 1.0000\n",
      "Epoch 21/100\n",
      "1/1 - 0s - loss: 0.9281 - accuracy: 1.0000 - rmse: 0.4277 - top5acc: 1.0000 - val_loss: 0.9653 - val_accuracy: 1.0000 - val_rmse: 0.4378 - val_top5acc: 1.0000\n",
      "Epoch 22/100\n",
      "1/1 - 0s - loss: 0.9171 - accuracy: 1.0000 - rmse: 0.4246 - top5acc: 1.0000 - val_loss: 0.9569 - val_accuracy: 1.0000 - val_rmse: 0.4355 - val_top5acc: 1.0000\n",
      "Epoch 23/100\n",
      "1/1 - 0s - loss: 0.9061 - accuracy: 1.0000 - rmse: 0.4215 - top5acc: 1.0000 - val_loss: 0.9483 - val_accuracy: 1.0000 - val_rmse: 0.4332 - val_top5acc: 1.0000\n",
      "Epoch 24/100\n",
      "1/1 - 0s - loss: 0.8951 - accuracy: 1.0000 - rmse: 0.4183 - top5acc: 1.0000 - val_loss: 0.9399 - val_accuracy: 1.0000 - val_rmse: 0.4309 - val_top5acc: 1.0000\n",
      "Epoch 25/100\n",
      "1/1 - 0s - loss: 0.8840 - accuracy: 1.0000 - rmse: 0.4151 - top5acc: 1.0000 - val_loss: 0.9312 - val_accuracy: 1.0000 - val_rmse: 0.4285 - val_top5acc: 1.0000\n",
      "Epoch 26/100\n",
      "1/1 - 0s - loss: 0.8730 - accuracy: 1.0000 - rmse: 0.4118 - top5acc: 1.0000 - val_loss: 0.9225 - val_accuracy: 1.0000 - val_rmse: 0.4260 - val_top5acc: 1.0000\n",
      "Epoch 27/100\n",
      "1/1 - 0s - loss: 0.8620 - accuracy: 1.0000 - rmse: 0.4086 - top5acc: 1.0000 - val_loss: 0.9139 - val_accuracy: 1.0000 - val_rmse: 0.4236 - val_top5acc: 1.0000\n",
      "Epoch 28/100\n",
      "1/1 - 0s - loss: 0.8510 - accuracy: 1.0000 - rmse: 0.4053 - top5acc: 1.0000 - val_loss: 0.9052 - val_accuracy: 1.0000 - val_rmse: 0.4211 - val_top5acc: 1.0000\n",
      "Epoch 29/100\n",
      "1/1 - 0s - loss: 0.8402 - accuracy: 1.0000 - rmse: 0.4020 - top5acc: 1.0000 - val_loss: 0.8965 - val_accuracy: 1.0000 - val_rmse: 0.4186 - val_top5acc: 1.0000\n",
      "Epoch 30/100\n",
      "1/1 - 0s - loss: 0.8294 - accuracy: 1.0000 - rmse: 0.3987 - top5acc: 1.0000 - val_loss: 0.8879 - val_accuracy: 1.0000 - val_rmse: 0.4161 - val_top5acc: 1.0000\n",
      "Epoch 31/100\n",
      "1/1 - 0s - loss: 0.8187 - accuracy: 1.0000 - rmse: 0.3954 - top5acc: 1.0000 - val_loss: 0.8794 - val_accuracy: 1.0000 - val_rmse: 0.4136 - val_top5acc: 1.0000\n",
      "Epoch 32/100\n",
      "1/1 - 0s - loss: 0.8081 - accuracy: 1.0000 - rmse: 0.3920 - top5acc: 1.0000 - val_loss: 0.8709 - val_accuracy: 1.0000 - val_rmse: 0.4111 - val_top5acc: 1.0000\n",
      "Epoch 33/100\n",
      "1/1 - 0s - loss: 0.7976 - accuracy: 1.0000 - rmse: 0.3887 - top5acc: 1.0000 - val_loss: 0.8624 - val_accuracy: 1.0000 - val_rmse: 0.4086 - val_top5acc: 1.0000\n",
      "Epoch 34/100\n",
      "1/1 - 0s - loss: 0.7871 - accuracy: 1.0000 - rmse: 0.3854 - top5acc: 1.0000 - val_loss: 0.8540 - val_accuracy: 1.0000 - val_rmse: 0.4061 - val_top5acc: 1.0000\n",
      "Epoch 35/100\n",
      "1/1 - 0s - loss: 0.7769 - accuracy: 1.0000 - rmse: 0.3821 - top5acc: 1.0000 - val_loss: 0.8456 - val_accuracy: 1.0000 - val_rmse: 0.4036 - val_top5acc: 1.0000\n",
      "Epoch 36/100\n",
      "1/1 - 0s - loss: 0.7667 - accuracy: 1.0000 - rmse: 0.3787 - top5acc: 1.0000 - val_loss: 0.8373 - val_accuracy: 1.0000 - val_rmse: 0.4010 - val_top5acc: 1.0000\n",
      "Epoch 37/100\n",
      "1/1 - 0s - loss: 0.7566 - accuracy: 1.0000 - rmse: 0.3754 - top5acc: 1.0000 - val_loss: 0.8291 - val_accuracy: 1.0000 - val_rmse: 0.3985 - val_top5acc: 1.0000\n",
      "Epoch 38/100\n",
      "1/1 - 0s - loss: 0.7466 - accuracy: 1.0000 - rmse: 0.3721 - top5acc: 1.0000 - val_loss: 0.8210 - val_accuracy: 1.0000 - val_rmse: 0.3960 - val_top5acc: 1.0000\n",
      "Epoch 39/100\n",
      "1/1 - 0s - loss: 0.7368 - accuracy: 1.0000 - rmse: 0.3688 - top5acc: 1.0000 - val_loss: 0.8129 - val_accuracy: 1.0000 - val_rmse: 0.3935 - val_top5acc: 1.0000\n",
      "Epoch 40/100\n",
      "1/1 - 0s - loss: 0.7272 - accuracy: 1.0000 - rmse: 0.3655 - top5acc: 1.0000 - val_loss: 0.8049 - val_accuracy: 1.0000 - val_rmse: 0.3909 - val_top5acc: 1.0000\n",
      "Epoch 41/100\n",
      "1/1 - 0s - loss: 0.7177 - accuracy: 1.0000 - rmse: 0.3622 - top5acc: 1.0000 - val_loss: 0.7970 - val_accuracy: 1.0000 - val_rmse: 0.3884 - val_top5acc: 1.0000\n",
      "Epoch 42/100\n",
      "1/1 - 0s - loss: 0.7082 - accuracy: 1.0000 - rmse: 0.3590 - top5acc: 1.0000 - val_loss: 0.7892 - val_accuracy: 1.0000 - val_rmse: 0.3859 - val_top5acc: 1.0000\n",
      "Epoch 43/100\n",
      "1/1 - 0s - loss: 0.6989 - accuracy: 1.0000 - rmse: 0.3557 - top5acc: 1.0000 - val_loss: 0.7815 - val_accuracy: 1.0000 - val_rmse: 0.3834 - val_top5acc: 1.0000\n",
      "Epoch 44/100\n",
      "1/1 - 0s - loss: 0.6897 - accuracy: 1.0000 - rmse: 0.3524 - top5acc: 1.0000 - val_loss: 0.7737 - val_accuracy: 1.0000 - val_rmse: 0.3809 - val_top5acc: 1.0000\n",
      "Epoch 45/100\n",
      "1/1 - 0s - loss: 0.6808 - accuracy: 1.0000 - rmse: 0.3492 - top5acc: 1.0000 - val_loss: 0.7661 - val_accuracy: 1.0000 - val_rmse: 0.3784 - val_top5acc: 1.0000\n",
      "Epoch 46/100\n",
      "1/1 - 0s - loss: 0.6720 - accuracy: 1.0000 - rmse: 0.3461 - top5acc: 1.0000 - val_loss: 0.7585 - val_accuracy: 1.0000 - val_rmse: 0.3759 - val_top5acc: 1.0000\n",
      "Epoch 47/100\n",
      "1/1 - 0s - loss: 0.6633 - accuracy: 1.0000 - rmse: 0.3429 - top5acc: 1.0000 - val_loss: 0.7510 - val_accuracy: 1.0000 - val_rmse: 0.3734 - val_top5acc: 1.0000\n",
      "Epoch 48/100\n",
      "1/1 - 0s - loss: 0.6547 - accuracy: 1.0000 - rmse: 0.3398 - top5acc: 1.0000 - val_loss: 0.7436 - val_accuracy: 1.0000 - val_rmse: 0.3709 - val_top5acc: 1.0000\n"
     ]
    },
    {
     "name": "stdout",
     "output_type": "stream",
     "text": [
      "Epoch 49/100\n",
      "1/1 - 0s - loss: 0.6462 - accuracy: 1.0000 - rmse: 0.3367 - top5acc: 1.0000 - val_loss: 0.7363 - val_accuracy: 1.0000 - val_rmse: 0.3685 - val_top5acc: 1.0000\n",
      "Epoch 50/100\n",
      "1/1 - 0s - loss: 0.6378 - accuracy: 1.0000 - rmse: 0.3335 - top5acc: 1.0000 - val_loss: 0.7290 - val_accuracy: 1.0000 - val_rmse: 0.3660 - val_top5acc: 1.0000\n",
      "Epoch 51/100\n",
      "1/1 - 0s - loss: 0.6295 - accuracy: 1.0000 - rmse: 0.3304 - top5acc: 1.0000 - val_loss: 0.7218 - val_accuracy: 1.0000 - val_rmse: 0.3636 - val_top5acc: 1.0000\n",
      "Epoch 52/100\n",
      "1/1 - 0s - loss: 0.6213 - accuracy: 1.0000 - rmse: 0.3273 - top5acc: 1.0000 - val_loss: 0.7147 - val_accuracy: 1.0000 - val_rmse: 0.3611 - val_top5acc: 1.0000\n",
      "Epoch 53/100\n",
      "1/1 - 0s - loss: 0.6131 - accuracy: 1.0000 - rmse: 0.3242 - top5acc: 1.0000 - val_loss: 0.7077 - val_accuracy: 1.0000 - val_rmse: 0.3587 - val_top5acc: 1.0000\n",
      "Epoch 54/100\n",
      "1/1 - 0s - loss: 0.6051 - accuracy: 1.0000 - rmse: 0.3211 - top5acc: 1.0000 - val_loss: 0.7008 - val_accuracy: 1.0000 - val_rmse: 0.3562 - val_top5acc: 1.0000\n",
      "Epoch 55/100\n",
      "1/1 - 0s - loss: 0.5972 - accuracy: 1.0000 - rmse: 0.3180 - top5acc: 1.0000 - val_loss: 0.6939 - val_accuracy: 1.0000 - val_rmse: 0.3538 - val_top5acc: 1.0000\n",
      "Epoch 56/100\n",
      "1/1 - 0s - loss: 0.5893 - accuracy: 1.0000 - rmse: 0.3150 - top5acc: 1.0000 - val_loss: 0.6871 - val_accuracy: 1.0000 - val_rmse: 0.3514 - val_top5acc: 1.0000\n",
      "Epoch 57/100\n",
      "1/1 - 0s - loss: 0.5816 - accuracy: 1.0000 - rmse: 0.3119 - top5acc: 1.0000 - val_loss: 0.6804 - val_accuracy: 1.0000 - val_rmse: 0.3490 - val_top5acc: 1.0000\n",
      "Epoch 58/100\n",
      "1/1 - 0s - loss: 0.5739 - accuracy: 1.0000 - rmse: 0.3089 - top5acc: 1.0000 - val_loss: 0.6738 - val_accuracy: 1.0000 - val_rmse: 0.3466 - val_top5acc: 1.0000\n",
      "Epoch 59/100\n",
      "1/1 - 0s - loss: 0.5663 - accuracy: 1.0000 - rmse: 0.3058 - top5acc: 1.0000 - val_loss: 0.6672 - val_accuracy: 1.0000 - val_rmse: 0.3443 - val_top5acc: 1.0000\n",
      "Epoch 60/100\n",
      "1/1 - 0s - loss: 0.5589 - accuracy: 1.0000 - rmse: 0.3028 - top5acc: 1.0000 - val_loss: 0.6607 - val_accuracy: 1.0000 - val_rmse: 0.3419 - val_top5acc: 1.0000\n",
      "Epoch 61/100\n",
      "1/1 - 0s - loss: 0.5515 - accuracy: 1.0000 - rmse: 0.2998 - top5acc: 1.0000 - val_loss: 0.6543 - val_accuracy: 1.0000 - val_rmse: 0.3396 - val_top5acc: 1.0000\n",
      "Epoch 62/100\n",
      "1/1 - 0s - loss: 0.5443 - accuracy: 1.0000 - rmse: 0.2969 - top5acc: 1.0000 - val_loss: 0.6480 - val_accuracy: 1.0000 - val_rmse: 0.3372 - val_top5acc: 1.0000\n",
      "Epoch 63/100\n",
      "1/1 - 0s - loss: 0.5371 - accuracy: 1.0000 - rmse: 0.2939 - top5acc: 1.0000 - val_loss: 0.6418 - val_accuracy: 1.0000 - val_rmse: 0.3349 - val_top5acc: 1.0000\n",
      "Epoch 64/100\n",
      "1/1 - 0s - loss: 0.5300 - accuracy: 1.0000 - rmse: 0.2910 - top5acc: 1.0000 - val_loss: 0.6356 - val_accuracy: 1.0000 - val_rmse: 0.3326 - val_top5acc: 1.0000\n",
      "Epoch 65/100\n",
      "1/1 - 0s - loss: 0.5230 - accuracy: 1.0000 - rmse: 0.2880 - top5acc: 1.0000 - val_loss: 0.6295 - val_accuracy: 1.0000 - val_rmse: 0.3303 - val_top5acc: 1.0000\n",
      "Epoch 66/100\n",
      "1/1 - 0s - loss: 0.5160 - accuracy: 1.0000 - rmse: 0.2851 - top5acc: 1.0000 - val_loss: 0.6235 - val_accuracy: 1.0000 - val_rmse: 0.3280 - val_top5acc: 1.0000\n",
      "Epoch 67/100\n",
      "1/1 - 0s - loss: 0.5092 - accuracy: 1.0000 - rmse: 0.2822 - top5acc: 1.0000 - val_loss: 0.6175 - val_accuracy: 1.0000 - val_rmse: 0.3258 - val_top5acc: 1.0000\n",
      "Epoch 68/100\n",
      "1/1 - 0s - loss: 0.5024 - accuracy: 1.0000 - rmse: 0.2793 - top5acc: 1.0000 - val_loss: 0.6117 - val_accuracy: 1.0000 - val_rmse: 0.3235 - val_top5acc: 1.0000\n",
      "Epoch 69/100\n",
      "1/1 - 0s - loss: 0.4957 - accuracy: 1.0000 - rmse: 0.2765 - top5acc: 1.0000 - val_loss: 0.6058 - val_accuracy: 1.0000 - val_rmse: 0.3213 - val_top5acc: 1.0000\n",
      "Epoch 70/100\n",
      "1/1 - 0s - loss: 0.4892 - accuracy: 1.0000 - rmse: 0.2736 - top5acc: 1.0000 - val_loss: 0.6001 - val_accuracy: 1.0000 - val_rmse: 0.3191 - val_top5acc: 1.0000\n",
      "Epoch 71/100\n",
      "1/1 - 0s - loss: 0.4826 - accuracy: 1.0000 - rmse: 0.2708 - top5acc: 1.0000 - val_loss: 0.5944 - val_accuracy: 1.0000 - val_rmse: 0.3169 - val_top5acc: 1.0000\n",
      "Epoch 72/100\n",
      "1/1 - 0s - loss: 0.4762 - accuracy: 1.0000 - rmse: 0.2679 - top5acc: 1.0000 - val_loss: 0.5888 - val_accuracy: 1.0000 - val_rmse: 0.3147 - val_top5acc: 1.0000\n",
      "Epoch 73/100\n",
      "1/1 - 0s - loss: 0.4698 - accuracy: 1.0000 - rmse: 0.2651 - top5acc: 1.0000 - val_loss: 0.5833 - val_accuracy: 1.0000 - val_rmse: 0.3125 - val_top5acc: 1.0000\n",
      "Epoch 74/100\n",
      "1/1 - 0s - loss: 0.4635 - accuracy: 1.0000 - rmse: 0.2623 - top5acc: 1.0000 - val_loss: 0.5778 - val_accuracy: 1.0000 - val_rmse: 0.3103 - val_top5acc: 1.0000\n",
      "Epoch 75/100\n",
      "1/1 - 0s - loss: 0.4573 - accuracy: 1.0000 - rmse: 0.2596 - top5acc: 1.0000 - val_loss: 0.5724 - val_accuracy: 1.0000 - val_rmse: 0.3082 - val_top5acc: 1.0000\n",
      "Epoch 76/100\n",
      "1/1 - 0s - loss: 0.4512 - accuracy: 1.0000 - rmse: 0.2568 - top5acc: 1.0000 - val_loss: 0.5670 - val_accuracy: 1.0000 - val_rmse: 0.3060 - val_top5acc: 1.0000\n",
      "Epoch 77/100\n",
      "1/1 - 0s - loss: 0.4452 - accuracy: 1.0000 - rmse: 0.2541 - top5acc: 1.0000 - val_loss: 0.5618 - val_accuracy: 1.0000 - val_rmse: 0.3039 - val_top5acc: 1.0000\n",
      "Epoch 78/100\n",
      "1/1 - 0s - loss: 0.4392 - accuracy: 1.0000 - rmse: 0.2514 - top5acc: 1.0000 - val_loss: 0.5565 - val_accuracy: 1.0000 - val_rmse: 0.3018 - val_top5acc: 1.0000\n",
      "Epoch 79/100\n",
      "1/1 - 0s - loss: 0.4333 - accuracy: 1.0000 - rmse: 0.2487 - top5acc: 1.0000 - val_loss: 0.5514 - val_accuracy: 1.0000 - val_rmse: 0.2997 - val_top5acc: 1.0000\n",
      "Epoch 80/100\n",
      "1/1 - 0s - loss: 0.4274 - accuracy: 1.0000 - rmse: 0.2460 - top5acc: 1.0000 - val_loss: 0.5463 - val_accuracy: 1.0000 - val_rmse: 0.2976 - val_top5acc: 1.0000\n",
      "Epoch 81/100\n",
      "1/1 - 0s - loss: 0.4217 - accuracy: 1.0000 - rmse: 0.2433 - top5acc: 1.0000 - val_loss: 0.5412 - val_accuracy: 1.0000 - val_rmse: 0.2955 - val_top5acc: 1.0000\n",
      "Epoch 82/100\n",
      "1/1 - 0s - loss: 0.4160 - accuracy: 1.0000 - rmse: 0.2407 - top5acc: 1.0000 - val_loss: 0.5362 - val_accuracy: 1.0000 - val_rmse: 0.2935 - val_top5acc: 1.0000\n",
      "Epoch 83/100\n",
      "1/1 - 0s - loss: 0.4103 - accuracy: 1.0000 - rmse: 0.2380 - top5acc: 1.0000 - val_loss: 0.5313 - val_accuracy: 1.0000 - val_rmse: 0.2914 - val_top5acc: 1.0000\n",
      "Epoch 84/100\n",
      "1/1 - 0s - loss: 0.4048 - accuracy: 1.0000 - rmse: 0.2354 - top5acc: 1.0000 - val_loss: 0.5264 - val_accuracy: 1.0000 - val_rmse: 0.2894 - val_top5acc: 1.0000\n",
      "Epoch 85/100\n",
      "1/1 - 0s - loss: 0.3993 - accuracy: 1.0000 - rmse: 0.2328 - top5acc: 1.0000 - val_loss: 0.5215 - val_accuracy: 1.0000 - val_rmse: 0.2874 - val_top5acc: 1.0000\n",
      "Epoch 86/100\n",
      "1/1 - 0s - loss: 0.3939 - accuracy: 1.0000 - rmse: 0.2302 - top5acc: 1.0000 - val_loss: 0.5168 - val_accuracy: 1.0000 - val_rmse: 0.2854 - val_top5acc: 1.0000\n",
      "Epoch 87/100\n",
      "1/1 - 0s - loss: 0.3886 - accuracy: 1.0000 - rmse: 0.2277 - top5acc: 1.0000 - val_loss: 0.5121 - val_accuracy: 1.0000 - val_rmse: 0.2834 - val_top5acc: 1.0000\n",
      "Epoch 88/100\n",
      "1/1 - 0s - loss: 0.3833 - accuracy: 1.0000 - rmse: 0.2251 - top5acc: 1.0000 - val_loss: 0.5074 - val_accuracy: 1.0000 - val_rmse: 0.2814 - val_top5acc: 1.0000\n",
      "Epoch 89/100\n",
      "1/1 - 0s - loss: 0.3781 - accuracy: 1.0000 - rmse: 0.2226 - top5acc: 1.0000 - val_loss: 0.5028 - val_accuracy: 1.0000 - val_rmse: 0.2794 - val_top5acc: 1.0000\n",
      "Epoch 90/100\n",
      "1/1 - 0s - loss: 0.3730 - accuracy: 1.0000 - rmse: 0.2201 - top5acc: 1.0000 - val_loss: 0.4983 - val_accuracy: 1.0000 - val_rmse: 0.2775 - val_top5acc: 1.0000\n",
      "Epoch 91/100\n",
      "1/1 - 0s - loss: 0.3679 - accuracy: 1.0000 - rmse: 0.2177 - top5acc: 1.0000 - val_loss: 0.4938 - val_accuracy: 1.0000 - val_rmse: 0.2756 - val_top5acc: 1.0000\n",
      "Epoch 92/100\n",
      "1/1 - 0s - loss: 0.3629 - accuracy: 1.0000 - rmse: 0.2152 - top5acc: 1.0000 - val_loss: 0.4894 - val_accuracy: 1.0000 - val_rmse: 0.2737 - val_top5acc: 1.0000\n",
      "Epoch 93/100\n",
      "1/1 - 0s - loss: 0.3580 - accuracy: 1.0000 - rmse: 0.2128 - top5acc: 1.0000 - val_loss: 0.4850 - val_accuracy: 1.0000 - val_rmse: 0.2718 - val_top5acc: 1.0000\n",
      "Epoch 94/100\n",
      "1/1 - 0s - loss: 0.3532 - accuracy: 1.0000 - rmse: 0.2104 - top5acc: 1.0000 - val_loss: 0.4807 - val_accuracy: 1.0000 - val_rmse: 0.2699 - val_top5acc: 1.0000\n",
      "Epoch 95/100\n",
      "1/1 - 0s - loss: 0.3484 - accuracy: 1.0000 - rmse: 0.2080 - top5acc: 1.0000 - val_loss: 0.4765 - val_accuracy: 1.0000 - val_rmse: 0.2680 - val_top5acc: 1.0000\n",
      "Epoch 96/100\n",
      "1/1 - 0s - loss: 0.3437 - accuracy: 1.0000 - rmse: 0.2057 - top5acc: 1.0000 - val_loss: 0.4723 - val_accuracy: 1.0000 - val_rmse: 0.2662 - val_top5acc: 1.0000\n"
     ]
    },
    {
     "name": "stdout",
     "output_type": "stream",
     "text": [
      "Epoch 97/100\n",
      "1/1 - 0s - loss: 0.3391 - accuracy: 1.0000 - rmse: 0.2033 - top5acc: 1.0000 - val_loss: 0.4681 - val_accuracy: 1.0000 - val_rmse: 0.2643 - val_top5acc: 1.0000\n",
      "Epoch 98/100\n",
      "1/1 - 0s - loss: 0.3345 - accuracy: 1.0000 - rmse: 0.2010 - top5acc: 1.0000 - val_loss: 0.4640 - val_accuracy: 1.0000 - val_rmse: 0.2625 - val_top5acc: 1.0000\n",
      "Epoch 99/100\n",
      "1/1 - 0s - loss: 0.3300 - accuracy: 1.0000 - rmse: 0.1987 - top5acc: 1.0000 - val_loss: 0.4600 - val_accuracy: 1.0000 - val_rmse: 0.2607 - val_top5acc: 1.0000\n",
      "Epoch 100/100\n",
      "1/1 - 0s - loss: 0.3255 - accuracy: 1.0000 - rmse: 0.1964 - top5acc: 1.0000 - val_loss: 0.4560 - val_accuracy: 1.0000 - val_rmse: 0.2589 - val_top5acc: 1.0000\n"
     ]
    }
   ],
   "source": [
    "history = model.fit(x_train,y_train,validation_split=0.2,shuffle=True,epochs = 100,batch_size = 10,verbose=2)\n",
    "\n",
    "y_pred = model.predict(x_test)\n",
    "y_pred = y_pred.argmax(1)\n",
    "\n",
    "mytrain=open('cnnresults.csv','a')\n",
    "results =csv.writer(mytrain,quoting=csv.QUOTE_ALL)\n"
   ]
  },
  {
   "cell_type": "code",
   "execution_count": 3,
   "id": "ebf8b153",
   "metadata": {},
   "outputs": [],
   "source": [
    "def rmse(y_true, y_pred):\n",
    "    return backend.sqrt(backend.mean(backend.square(y_pred - y_true), axis=-1))\n"
   ]
  },
  {
   "cell_type": "code",
   "execution_count": 4,
   "id": "cdd648b1",
   "metadata": {},
   "outputs": [],
   "source": [
    "def top5acc(y_true,y_pred):\n",
    "    return keras.metrics.top_k_categorical_accuracy(y_true,y_pred,k=5)\n"
   ]
  },
  {
   "cell_type": "code",
   "execution_count": 25,
   "id": "1f1f9759",
   "metadata": {},
   "outputs": [
    {
     "name": "stdout",
     "output_type": "stream",
     "text": [
      "rmseval:\n",
      " [0.4708860516548157, 0.47027164697647095, 0.4693959355354309, 0.46828582882881165, 0.4669526219367981, 0.46539992094039917, 0.46366265416145325, 0.46175968647003174, 0.45970726013183594, 0.4575178027153015, 0.4552042484283447, 0.4527814984321594, 0.45026254653930664, 0.4476747512817383, 0.4450269937515259, 0.44232815504074097, 0.4395643472671509, 0.4366828203201294, 0.4337398409843445, 0.43074139952659607, 0.4276930093765259, 0.42459964752197266, 0.42146551609039307, 0.41828837990760803, 0.4150781035423279, 0.41183847188949585, 0.40857285261154175, 0.40528443455696106, 0.4019924998283386, 0.3986901640892029, 0.39537471532821655, 0.3920486569404602, 0.38871151208877563, 0.3853739798069, 0.3820538818836212, 0.37872999906539917, 0.3754032850265503, 0.37207549810409546, 0.368772029876709, 0.3654977083206177, 0.36222636699676514, 0.3589588701725006, 0.3556961715221405, 0.3524444103240967, 0.34924983978271484, 0.34608787298202515, 0.34293752908706665, 0.3397952914237976, 0.3366629481315613, 0.3335362374782562, 0.33041298389434814, 0.3272978663444519, 0.3241931200027466, 0.321098268032074, 0.31802594661712646, 0.31496456265449524, 0.3119121789932251, 0.30887094140052795, 0.30584022402763367, 0.3028305768966675, 0.29984426498413086, 0.2968710660934448, 0.2939102053642273, 0.29096466302871704, 0.2880339026451111, 0.2851177453994751, 0.28221583366394043, 0.2793292701244354, 0.27645790576934814, 0.2736099362373352, 0.27077338099479675, 0.26794934272766113, 0.26514142751693726, 0.2623494267463684, 0.2595781683921814, 0.2568240463733673, 0.25408822298049927, 0.2513728141784668, 0.24867376685142517, 0.2459825873374939, 0.24330979585647583, 0.24065455794334412, 0.23801903426647186, 0.23540206253528595, 0.23280444741249084, 0.23022809624671936, 0.2276717722415924, 0.2251361906528473, 0.22262334823608398, 0.22013221681118011, 0.2176632285118103, 0.2152179479598999, 0.21279406547546387, 0.21039295196533203, 0.20801588892936707, 0.20566090941429138, 0.20332978665828705, 0.20101551711559296, 0.19871914386749268, 0.19644474983215332]\n",
      "\n",
      "top5acc:\n",
      " [1.0, 1.0, 1.0, 1.0, 1.0, 1.0, 1.0, 1.0, 1.0, 1.0, 1.0, 1.0, 1.0, 1.0, 1.0, 1.0, 1.0, 1.0, 1.0, 1.0, 1.0, 1.0, 1.0, 1.0, 1.0, 1.0, 1.0, 1.0, 1.0, 1.0, 1.0, 1.0, 1.0, 1.0, 1.0, 1.0, 1.0, 1.0, 1.0, 1.0, 1.0, 1.0, 1.0, 1.0, 1.0, 1.0, 1.0, 1.0, 1.0, 1.0, 1.0, 1.0, 1.0, 1.0, 1.0, 1.0, 1.0, 1.0, 1.0, 1.0, 1.0, 1.0, 1.0, 1.0, 1.0, 1.0, 1.0, 1.0, 1.0, 1.0, 1.0, 1.0, 1.0, 1.0, 1.0, 1.0, 1.0, 1.0, 1.0, 1.0, 1.0, 1.0, 1.0, 1.0, 1.0, 1.0, 1.0, 1.0, 1.0, 1.0, 1.0, 1.0, 1.0, 1.0, 1.0, 1.0, 1.0, 1.0, 1.0, 1.0]\n"
     ]
    }
   ],
   "source": [
    "rmseval = history.history['rmse']\n",
    "top5acc = history.history['top5acc']\n",
    "print('rmseval:\\n', rmseval)\n",
    "print('\\ntop5acc:\\n', top5acc)"
   ]
  },
  {
   "cell_type": "code",
   "execution_count": 27,
   "id": "26450dc2",
   "metadata": {},
   "outputs": [
    {
     "name": "stdout",
     "output_type": "stream",
     "text": [
      "dict_keys(['loss', 'accuracy', 'rmse', 'top5acc', 'val_loss', 'val_accuracy', 'val_rmse', 'val_top5acc'])\n"
     ]
    }
   ],
   "source": [
    "history_dict = history.history\n",
    "print(history_dict.keys())"
   ]
  },
  {
   "cell_type": "code",
   "execution_count": 28,
   "id": "02524f71",
   "metadata": {},
   "outputs": [],
   "source": [
    "trainacc = history.history['accuracy']\n",
    "valacc = history.history['val_accuracy']\n",
    "trainloss = history.history['loss']\n",
    "valloss = history.history['val_loss']"
   ]
  },
  {
   "cell_type": "code",
   "execution_count": 29,
   "id": "fb7bddab",
   "metadata": {},
   "outputs": [],
   "source": [
    "for i in range(0,100):\n",
    "    res = [i,trainacc[i],valacc[i],trainloss[i],valloss[i],rmseval[i],top5acc[i]]\n",
    "    results.writerow(res)\n",
    "    \n",
    "\n"
   ]
  },
  {
   "cell_type": "code",
   "execution_count": 30,
   "id": "4173e56e",
   "metadata": {},
   "outputs": [
    {
     "data": {
      "image/png": "[encoded data removed]",
      "text/plain": [
       "<Figure size 432x288 with 1 Axes>"
      ]
     },
     "metadata": {
      "needs_background": "light"
     },
     "output_type": "display_data"
    }
   ],
   "source": [
    "plt.title('RMSE vs Epochs')\n",
    "plt.plot(history.history['rmse'])\n",
    "plt.ylabel('RMSE')\n",
    "plt.xlabel('Epochs')\n",
    "plt.show()\n",
    "\n"
   ]
  },
  {
   "cell_type": "code",
   "execution_count": 31,
   "id": "4d9174cf",
   "metadata": {},
   "outputs": [
    {
     "data": {
      "image/png": "[encoded data removed]",
      "text/plain": [
       "<Figure size 432x288 with 1 Axes>"
      ]
     },
     "metadata": {
      "needs_background": "light"
     },
     "output_type": "display_data"
    }
   ],
   "source": [
    "plt.title('Top-5 Accuracy vs Epochs')\n",
    "plt.plot(history.history['top5acc'])\n",
    "plt.ylabel('Top-5 Accuracy')\n",
    "plt.xlabel('Epochs')\n",
    "plt.show()\n",
    "#precision = precision_score(ye_test, y_pred, average=None)\n",
    "#recall = recall_score(ye_test, y_pred, average=None)\n",
    "#accuracy = accuracy_score(ye_test, y_pred)\n",
    "\n",
    "#y_score = model.evaluate(x_test, y_test,batch_size=10)\n",
    "#print('y_score ',y_score)\n"
   ]
  },
  {
   "cell_type": "code",
   "execution_count": 34,
   "id": "3bce5b0e",
   "metadata": {},
   "outputs": [
    {
     "data": {
      "image/png": "[encoded data removed]",
      "text/plain": [
       "<Figure size 432x288 with 1 Axes>"
      ]
     },
     "metadata": {
      "needs_background": "light"
     },
     "output_type": "display_data"
    }
   ],
   "source": [
    "# Plot training & validation accuracy values\n",
    "plt.plot(history.history['accuracy'])\n",
    "plt.plot(history.history['val_accuracy'])\n",
    "plt.title('Model accuracy')\n",
    "plt.ylabel('Accuracy')\n",
    "plt.xlabel('Epoch')\n",
    "plt.legend(['Train', 'Test'], loc='upper left')\n",
    "plt.show()\n",
    "\n"
   ]
  },
  {
   "cell_type": "code",
   "execution_count": 35,
   "id": "83ddbb78",
   "metadata": {},
   "outputs": [
    {
     "data": {
      "image/png": "[encoded data removed]",
      "text/plain": [
       "<Figure size 432x288 with 1 Axes>"
      ]
     },
     "metadata": {
      "needs_background": "light"
     },
     "output_type": "display_data"
    },
    {
     "data": {
      "text/plain": [
       "'\\n##############\\ngraph_cl = [0,1,2]\\nplt.plot(graph_cl,precision,color=\\'g\\')\\nplt.xlabel(\\'Classes\\')\\nplt.ylabel(\\'Precision\\')\\nplt.show()\\n\\n#plt.scatter(graph_cl,recall,c=graph_cl)\\nplt.plot(graph_cl,recall,c=\\'orange\\')\\nplt.xlabel(\\'Classes\\')\\nplt.ylabel(\\'Recall\\')\\nplt.show()\\n\\nprint(\"y_test \",y_test)\\nprint(\"ye_test \",ye_test)\\nprint(\"y_pred \",y_pred)\\n#############\\n'"
      ]
     },
     "execution_count": 35,
     "metadata": {},
     "output_type": "execute_result"
    }
   ],
   "source": [
    "# Plot training & validation loss values\n",
    "plt.plot(history.history['loss'])\n",
    "plt.plot(history.history['val_loss'])\n",
    "plt.title('Model loss')\n",
    "plt.ylabel('Loss')\n",
    "plt.xlabel('Epoch')\n",
    "plt.legend(['Train', 'Test'], loc='upper left')\n",
    "plt.show()\n",
    "\n",
    "'''\n",
    "##############\n",
    "graph_cl = [0,1,2]\n",
    "plt.plot(graph_cl,precision,color='g')\n",
    "plt.xlabel('Classes')\n",
    "plt.ylabel('Precision')\n",
    "plt.show()\n",
    "\n",
    "#plt.scatter(graph_cl,recall,c=graph_cl)\n",
    "plt.plot(graph_cl,recall,c='orange')\n",
    "plt.xlabel('Classes')\n",
    "plt.ylabel('Recall')\n",
    "plt.show()\n",
    "\n",
    "print(\"y_test \",y_test)\n",
    "print(\"ye_test \",ye_test)\n",
    "print(\"y_pred \",y_pred)\n",
    "#############\n",
    "'''\n"
   ]
  },
  {
   "cell_type": "code",
   "execution_count": null,
   "id": "2e39e1e3",
   "metadata": {},
   "outputs": [],
   "source": []
  }
 ],
 "metadata": {
  "kernelspec": {
   "display_name": "Python 3",
   "language": "python",
   "name": "python3"
  },
  "language_info": {
   "codemirror_mode": {
    "name": "ipython",
    "version": 3
   },
   "file_extension": ".py",
   "mimetype": "text/x-python",
   "name": "python",
   "nbconvert_exporter": "python",
   "pygments_lexer": "ipython3",
   "version": "3.8.8"
  }
 },
 "nbformat": 4,
 "nbformat_minor": 5
}
